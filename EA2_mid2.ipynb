{
 "cells": [
  {
   "cell_type": "markdown",
   "metadata": {},
   "source": [
    "# Midterm II Solution Manual\n",
    "- Vector product\n",
    "    - dot multiplication\n",
    "    - cross multiplication\n",
    "    - add/sub\n",
    "\n",
    "## To run this plese make sure you have Python>3.7 include follow package\n",
    "- numpy\n",
    "- sympy\n",
    "- matplotlib\n",
    "- pipe (install with pip install pipe)\n",
    "- math \n"
   ]
  },
  {
   "cell_type": "markdown",
   "metadata": {},
   "source": [
    "## Problem 1\n",
    "Using the vector methods from class, \f\n",
    "nd the area of the\n",
    "triangle made by the vertices\n",
    "$$\n",
    "P = (-1,-1,2) \\\\\n",
    "Q = (2,1,3) \\\\\n",
    "R = (0,4,1)\n",
    "$$"
   ]
  },
  {
   "cell_type": "code",
   "execution_count": 1,
   "metadata": {},
   "outputs": [],
   "source": [
    "import numpy as np\n",
    "import sympy as sp\n",
    "from sympy import *\n",
    "from sympy.vector import CoordSys3D\n",
    "from sympy import Matrix\n",
    "from pipe import traverse\n",
    "import math\n"
   ]
  },
  {
   "cell_type": "code",
   "execution_count": 2,
   "metadata": {},
   "outputs": [
    {
     "name": "stdout",
     "output_type": "stream",
     "text": [
      "[3, 2, 1] [2, -3, 2]\n"
     ]
    }
   ],
   "source": [
    "# Matrix-lized give the ablity to do the futer vector calculation \n",
    "P = Matrix([-1, -1, 2])\n",
    "Q = Matrix([2, 1, 3])\n",
    "R = Matrix([0, 4, 1])\n",
    "\n",
    "# Find the vector\n",
    "PQ = Q - P \n",
    "PR = R - P\n",
    "QR = R - Q\n",
    "RQ = Q - R\n",
    "V = [PQ, PR, QR, RQ]\n",
    "# it looks nested so do this\n",
    "PQ = list(PQ | traverse)\n",
    "PR = list(PR | traverse)\n",
    "QR = list(QR | traverse)\n",
    "RQ = list(RQ | traverse)\n",
    "print(PQ,RQ)"
   ]
  },
  {
   "cell_type": "markdown",
   "metadata": {},
   "source": [
    "### Convert into \n",
    "$\\hat i ~~\\hat j~~ \\hat k$"
   ]
  },
  {
   "cell_type": "code",
   "execution_count": 3,
   "metadata": {},
   "outputs": [],
   "source": [
    "N = CoordSys3D('N')\n",
    "PQv = 3*N.i+2*N.j+1*N.k\n",
    "PRv = 1*N.i+5*N.j-1*N.k\n",
    "QRv = -2*N.i+3*N.j-2*N.k\n",
    "RQv = 2*N.i-3*N.j+2*N.k\n"
   ]
  },
  {
   "cell_type": "code",
   "execution_count": 4,
   "metadata": {},
   "outputs": [
    {
     "data": {
      "text/latex": [
       "$\\displaystyle 12$"
      ],
      "text/plain": [
       "12"
      ]
     },
     "execution_count": 4,
     "metadata": {},
     "output_type": "execute_result"
    }
   ],
   "source": [
    "PQv.dot(PRv)"
   ]
  },
  {
   "cell_type": "markdown",
   "metadata": {},
   "source": [
    "$$\\overrightarrow P = \\overrightarrow {PQ} \\times \\overrightarrow {PR}$$"
   ]
  },
  {
   "cell_type": "code",
   "execution_count": 5,
   "metadata": {},
   "outputs": [
    {
     "data": {
      "text/latex": [
       "$\\displaystyle (-7)\\mathbf{\\hat{i}_{N}} + (4)\\mathbf{\\hat{j}_{N}} + (13)\\mathbf{\\hat{k}_{N}}$"
      ],
      "text/plain": [
       "(-7)*N.i + 4*N.j + 13*N.k"
      ]
     },
     "execution_count": 5,
     "metadata": {},
     "output_type": "execute_result"
    }
   ],
   "source": [
    "PQv.cross(PRv)\n",
    "P = PQv.cross(PRv)\n",
    "P"
   ]
  },
  {
   "cell_type": "markdown",
   "metadata": {},
   "source": [
    "$$ A = \\frac{1}{2} |\\overrightarrow P| $$"
   ]
  },
  {
   "cell_type": "code",
   "execution_count": 6,
   "metadata": {},
   "outputs": [
    {
     "data": {
      "text/latex": [
       "$\\displaystyle \\frac{3 \\sqrt{26}}{2}$"
      ],
      "text/plain": [
       "3*sqrt(26)/2"
      ]
     },
     "execution_count": 6,
     "metadata": {},
     "output_type": "execute_result"
    }
   ],
   "source": [
    "A = sqrt(P.dot(P))/2\n",
    "A"
   ]
  },
  {
   "cell_type": "markdown",
   "metadata": {},
   "source": [
    "### Length of vectors \n",
    "$|PQ|,|RQ|,|PR|,|QR|$"
   ]
  },
  {
   "cell_type": "code",
   "execution_count": 7,
   "metadata": {},
   "outputs": [
    {
     "data": {
      "text/latex": [
       "$\\displaystyle \\sqrt{14}$"
      ],
      "text/plain": [
       "sqrt(14)"
      ]
     },
     "execution_count": 7,
     "metadata": {},
     "output_type": "execute_result"
    }
   ],
   "source": [
    "\n",
    "PQ_mg=sqrt(PQv.dot(PQv))\n",
    "PR_mg=sqrt(PRv.dot(PRv))\n",
    "QR_mg=sqrt(QRv.dot(QRv))\n",
    "RQ_mg=sqrt(RQv.dot(RQv))\n",
    "PQ_mg"
   ]
  },
  {
   "cell_type": "code",
   "execution_count": 8,
   "metadata": {},
   "outputs": [
    {
     "data": {
      "text/latex": [
       "$\\displaystyle \\sqrt{17}$"
      ],
      "text/plain": [
       "sqrt(17)"
      ]
     },
     "execution_count": 8,
     "metadata": {},
     "output_type": "execute_result"
    }
   ],
   "source": [
    "RQ_mg"
   ]
  },
  {
   "cell_type": "code",
   "execution_count": 9,
   "metadata": {},
   "outputs": [
    {
     "data": {
      "text/latex": [
       "$\\displaystyle 3 \\sqrt{3}$"
      ],
      "text/plain": [
       "3*sqrt(3)"
      ]
     },
     "execution_count": 9,
     "metadata": {},
     "output_type": "execute_result"
    }
   ],
   "source": [
    "PR_mg"
   ]
  },
  {
   "cell_type": "code",
   "execution_count": 10,
   "metadata": {},
   "outputs": [
    {
     "data": {
      "text/latex": [
       "$\\displaystyle \\sqrt{17}$"
      ],
      "text/plain": [
       "sqrt(17)"
      ]
     },
     "execution_count": 10,
     "metadata": {},
     "output_type": "execute_result"
    }
   ],
   "source": [
    "\n",
    "QR_mg"
   ]
  },
  {
   "cell_type": "markdown",
   "metadata": {},
   "source": [
    "## Problem 2\n",
    "Using the vector methods from class, \f\n",
    "nd the three interior\n",
    "angles for the triangle in the previous problem. Radians or degrees\n",
    "are \f\n",
    "ne, but specify which your answer is in."
   ]
  },
  {
   "cell_type": "code",
   "execution_count": 11,
   "metadata": {},
   "outputs": [],
   "source": [
    "import sympy as sym\n",
    "alpha, theta, gamma = symbols('alpha theta gamma')"
   ]
  },
  {
   "cell_type": "markdown",
   "metadata": {},
   "source": [
    "Define 3 angles in the tangle as follow"
   ]
  },
  {
   "cell_type": "code",
   "execution_count": 12,
   "metadata": {},
   "outputs": [
    {
     "data": {
      "text/latex": [
       "$\\displaystyle \\alpha$"
      ],
      "text/plain": [
       "alpha"
      ]
     },
     "execution_count": 12,
     "metadata": {},
     "output_type": "execute_result"
    }
   ],
   "source": [
    "alpha"
   ]
  },
  {
   "cell_type": "code",
   "execution_count": 13,
   "metadata": {},
   "outputs": [
    {
     "data": {
      "text/latex": [
       "$\\displaystyle \\theta$"
      ],
      "text/plain": [
       "theta"
      ]
     },
     "execution_count": 13,
     "metadata": {},
     "output_type": "execute_result"
    }
   ],
   "source": [
    "theta"
   ]
  },
  {
   "cell_type": "code",
   "execution_count": 14,
   "metadata": {},
   "outputs": [
    {
     "data": {
      "text/latex": [
       "$\\displaystyle \\gamma$"
      ],
      "text/plain": [
       "gamma"
      ]
     },
     "execution_count": 14,
     "metadata": {},
     "output_type": "execute_result"
    }
   ],
   "source": [
    "gamma"
   ]
  },
  {
   "cell_type": "code",
   "execution_count": 15,
   "metadata": {},
   "outputs": [
    {
     "data": {
      "text/latex": [
       "$\\displaystyle 0.905600271782078$"
      ],
      "text/plain": [
       "0.905600271782078"
      ]
     },
     "execution_count": 15,
     "metadata": {},
     "output_type": "execute_result"
    }
   ],
   "source": [
    "alpha = acos(PQv.dot(PRv)/(PQ_mg*PR_mg)).evalf()\n",
    "alpha"
   ]
  },
  {
   "cell_type": "code",
   "execution_count": 16,
   "metadata": {},
   "outputs": [
    {
     "data": {
      "text/latex": [
       "$\\displaystyle 1.44078966851804$"
      ],
      "text/plain": [
       "1.44078966851804"
      ]
     },
     "execution_count": 16,
     "metadata": {},
     "output_type": "execute_result"
    }
   ],
   "source": [
    "theta = acos((PQv.dot(RQv))/(PQ_mg*RQ_mg)).evalf()\n",
    "theta"
   ]
  },
  {
   "cell_type": "code",
   "execution_count": 17,
   "metadata": {},
   "outputs": [
    {
     "data": {
      "text/latex": [
       "$\\displaystyle 0.795202713289678$"
      ],
      "text/plain": [
       "0.795202713289678"
      ]
     },
     "execution_count": 17,
     "metadata": {},
     "output_type": "execute_result"
    }
   ],
   "source": [
    "gamma = acos((PRv.dot(QRv))/(PR_mg*QR_mg)).evalf()\n",
    "gamma\n"
   ]
  },
  {
   "cell_type": "markdown",
   "metadata": {},
   "source": [
    "covert to degree"
   ]
  },
  {
   "cell_type": "code",
   "execution_count": 18,
   "metadata": {},
   "outputs": [
    {
     "data": {
      "text/latex": [
       "$\\displaystyle \\left[\\begin{matrix}51.8870734990134\\\\82.5511671721364\\\\45.5617593288502\\end{matrix}\\right]$"
      ],
      "text/plain": [
       "Matrix([\n",
       "[51.8870734990134],\n",
       "[82.5511671721364],\n",
       "[45.5617593288502]])"
      ]
     },
     "execution_count": 18,
     "metadata": {},
     "output_type": "execute_result"
    }
   ],
   "source": [
    "angle = Matrix([alpha, theta, gamma])*180/math.pi\n",
    "angle"
   ]
  },
  {
   "cell_type": "code",
   "execution_count": null,
   "metadata": {},
   "outputs": [],
   "source": []
  },
  {
   "cell_type": "markdown",
   "metadata": {},
   "source": [
    "## Problem 3\n",
    "We have seen that polar coordinates are often useful for pa-\n",
    "rameterizing some curves in 2 dimensions in terms of distance $r$ and angle $\\theta$ from the origin. In 3 dimensions an additional angle is needed\n",
    "to uniquely de ne a point in space. One system for parameterizing 3d\n",
    "curves is called spherical coordinates. In this system, $x,y$ and $z$ parameterized with three parameters: $r, \\theta$ and $\\phi~$ using the equations:\n",
    "$$\n",
    "x = r\\cos\\phi \\sin \\theta \\\\\n",
    "y = r\\sin\\phi \\sin \\theta \\\\\n",
    "z = r\\cos\\theta\n",
    "$$\n",
    "For the function $f(x,y,z)=2x^2+3y^2+z^2$ use the multi-variable chain rule find $\\frac{\\partial f}{\\partial \\phi}$"
   ]
  },
  {
   "cell_type": "markdown",
   "metadata": {},
   "source": [
    "## Multi-Variabl Chain Rule\n",
    "$$\n",
    "\\frac{\\partial f}{\\partial \\phi} =\\frac{\\partial f}{\\partial x }  \\frac{\\partial x}{\\partial \\phi } + \\frac{\\partial f}{\\partial y} \\frac{\\partial y}{\\partial \\phi }+\\frac{\\partial f}{\\partial z}\\frac{\\partial z}{\\partial \\phi } \n"
   ]
  },
  {
   "cell_type": "code",
   "execution_count": 19,
   "metadata": {},
   "outputs": [],
   "source": [
    "import sympy as sym\n",
    "x,y,z,r,theta,phi = sym.symbols('x,y,z,r,theta,phi')"
   ]
  },
  {
   "cell_type": "code",
   "execution_count": 20,
   "metadata": {},
   "outputs": [
    {
     "data": {
      "text/latex": [
       "$\\displaystyle 2 x^{2} + 3 y^{2} + z^{2}$"
      ],
      "text/plain": [
       "2*x**2 + 3*y**2 + z**2"
      ]
     },
     "execution_count": 20,
     "metadata": {},
     "output_type": "execute_result"
    }
   ],
   "source": [
    "f = 2*x**2+3*y**2+z**2\n",
    "f"
   ]
  },
  {
   "cell_type": "code",
   "execution_count": 21,
   "metadata": {},
   "outputs": [
    {
     "data": {
      "text/latex": [
       "$\\displaystyle 4 x$"
      ],
      "text/plain": [
       "4*x"
      ]
     },
     "execution_count": 21,
     "metadata": {},
     "output_type": "execute_result"
    }
   ],
   "source": [
    "df_dx = f.diff(x)\n",
    "df_dx"
   ]
  },
  {
   "cell_type": "code",
   "execution_count": 22,
   "metadata": {},
   "outputs": [
    {
     "data": {
      "text/latex": [
       "$\\displaystyle 6 y$"
      ],
      "text/plain": [
       "6*y"
      ]
     },
     "execution_count": 22,
     "metadata": {},
     "output_type": "execute_result"
    }
   ],
   "source": [
    "df_dy = f.diff(y)\n",
    "df_dy"
   ]
  },
  {
   "cell_type": "code",
   "execution_count": 23,
   "metadata": {},
   "outputs": [
    {
     "data": {
      "text/latex": [
       "$\\displaystyle 2 z$"
      ],
      "text/plain": [
       "2*z"
      ]
     },
     "execution_count": 23,
     "metadata": {},
     "output_type": "execute_result"
    }
   ],
   "source": [
    "df_dz = f.diff(z)\n",
    "df_dz"
   ]
  },
  {
   "cell_type": "code",
   "execution_count": 24,
   "metadata": {},
   "outputs": [
    {
     "data": {
      "text/latex": [
       "$\\displaystyle r \\sin{\\left(\\theta \\right)} \\cos{\\left(\\phi \\right)}$"
      ],
      "text/plain": [
       "r*sin(theta)*cos(phi)"
      ]
     },
     "execution_count": 24,
     "metadata": {},
     "output_type": "execute_result"
    }
   ],
   "source": [
    "x = r*sym.cos(phi)*sym.sin(theta)\n",
    "x"
   ]
  },
  {
   "cell_type": "code",
   "execution_count": 25,
   "metadata": {},
   "outputs": [
    {
     "data": {
      "text/latex": [
       "$\\displaystyle r \\sin{\\left(\\phi \\right)} \\sin{\\left(\\theta \\right)}$"
      ],
      "text/plain": [
       "r*sin(phi)*sin(theta)"
      ]
     },
     "execution_count": 25,
     "metadata": {},
     "output_type": "execute_result"
    }
   ],
   "source": [
    "y = r*sym.sin(phi)*sym.sin(theta)\n",
    "y"
   ]
  },
  {
   "cell_type": "code",
   "execution_count": 26,
   "metadata": {},
   "outputs": [
    {
     "data": {
      "text/latex": [
       "$\\displaystyle r \\cos{\\left(\\theta \\right)}$"
      ],
      "text/plain": [
       "r*cos(theta)"
      ]
     },
     "execution_count": 26,
     "metadata": {},
     "output_type": "execute_result"
    }
   ],
   "source": [
    "z = r*sym.cos(theta)\n",
    "z"
   ]
  },
  {
   "cell_type": "code",
   "execution_count": 27,
   "metadata": {},
   "outputs": [
    {
     "data": {
      "text/latex": [
       "$\\displaystyle - r \\sin{\\left(\\phi \\right)} \\sin{\\left(\\theta \\right)}$"
      ],
      "text/plain": [
       "-r*sin(phi)*sin(theta)"
      ]
     },
     "execution_count": 27,
     "metadata": {},
     "output_type": "execute_result"
    }
   ],
   "source": [
    "dx_dphi = x.diff(phi)\n",
    "dx_dphi"
   ]
  },
  {
   "cell_type": "code",
   "execution_count": 28,
   "metadata": {},
   "outputs": [
    {
     "data": {
      "text/latex": [
       "$\\displaystyle r \\sin{\\left(\\theta \\right)} \\cos{\\left(\\phi \\right)}$"
      ],
      "text/plain": [
       "r*sin(theta)*cos(phi)"
      ]
     },
     "execution_count": 28,
     "metadata": {},
     "output_type": "execute_result"
    }
   ],
   "source": [
    "dy_dphi = y.diff(phi)\n",
    "dy_dphi"
   ]
  },
  {
   "cell_type": "code",
   "execution_count": 29,
   "metadata": {},
   "outputs": [
    {
     "data": {
      "text/latex": [
       "$\\displaystyle 0$"
      ],
      "text/plain": [
       "0"
      ]
     },
     "execution_count": 29,
     "metadata": {},
     "output_type": "execute_result"
    }
   ],
   "source": [
    "dz_dphi = z.diff(phi)\n",
    "dz_dphi"
   ]
  },
  {
   "cell_type": "code",
   "execution_count": 30,
   "metadata": {},
   "outputs": [],
   "source": [
    "x = r*sym.cos(phi)*sym.sin(theta)\n",
    "y = r*sym.sin(phi)*sym.sin(theta)\n",
    "z = r*sym.cos(theta)"
   ]
  },
  {
   "cell_type": "markdown",
   "metadata": {},
   "source": [
    "## Multi-Variabl Chain Rule\n",
    "$$\n",
    "\\frac{\\partial f}{\\partial \\phi} =\\frac{\\partial f}{\\partial x }  \\frac{\\partial x}{\\partial \\phi } + \\frac{\\partial f}{\\partial y} \\frac{\\partial y}{\\partial \\phi }+\\frac{\\partial f}{\\partial z}\\frac{\\partial z}{\\partial \\phi } \n"
   ]
  },
  {
   "cell_type": "code",
   "execution_count": 31,
   "metadata": {},
   "outputs": [
    {
     "data": {
      "text/latex": [
       "$\\displaystyle - 4 r x \\sin{\\left(\\phi \\right)} \\sin{\\left(\\theta \\right)} + 6 r y \\sin{\\left(\\theta \\right)} \\cos{\\left(\\phi \\right)}$"
      ],
      "text/plain": [
       "-4*r*x*sin(phi)*sin(theta) + 6*r*y*sin(theta)*cos(phi)"
      ]
     },
     "execution_count": 31,
     "metadata": {},
     "output_type": "execute_result"
    }
   ],
   "source": [
    "x = r*sym.cos(phi)*sym.sin(theta)\n",
    "y = r*sym.sin(phi)*sym.sin(theta)\n",
    "z = r*sym.cos(theta)\n",
    "Solution = df_dx*dx_dphi+df_dy*dy_dphi+df_dz*dz_dphi\n",
    "Solution"
   ]
  },
  {
   "cell_type": "code",
   "execution_count": null,
   "metadata": {},
   "outputs": [],
   "source": []
  },
  {
   "cell_type": "markdown",
   "metadata": {},
   "source": [
    "## Problem 4\n",
    "For the curve $r(t) = [\\cos(t), 1+\\cos^2(t),3t]$ and the point $P = (-1,2,3\\pi)$,find\n",
    "- a. the tangent vector at $P$\n",
    "- b. the unit tangent vector at $P$\n",
    "- c. the equation of the line tangent to the curve and passing through $P$ "
   ]
  },
  {
   "cell_type": "code",
   "execution_count": 32,
   "metadata": {},
   "outputs": [],
   "source": [
    "import sympy as sym\n",
    "from sympy import Matrix\n",
    "from sympy import sqrt\n",
    "r,t = sym.symbols('r,t')"
   ]
  },
  {
   "cell_type": "code",
   "execution_count": 33,
   "metadata": {},
   "outputs": [
    {
     "data": {
      "text/latex": [
       "$\\displaystyle \\left[\\begin{matrix}\\cos{\\left(t \\right)} & \\cos^{2}{\\left(t \\right)} + 1 & 3 t\\end{matrix}\\right]$"
      ],
      "text/plain": [
       "Matrix([[cos(t), cos(t)**2 + 1, 3*t]])"
      ]
     },
     "execution_count": 33,
     "metadata": {},
     "output_type": "execute_result"
    }
   ],
   "source": [
    "r_t = Matrix([sym.cos(t),1+sym.cos(t)**2,3*t]).T\n",
    "# .T give the transpose\n",
    "r_t"
   ]
  },
  {
   "cell_type": "code",
   "execution_count": 34,
   "metadata": {},
   "outputs": [
    {
     "data": {
      "text/latex": [
       "$\\displaystyle \\left[\\begin{matrix}- \\sin{\\left(t \\right)} & - 2 \\sin{\\left(t \\right)} \\cos{\\left(t \\right)} & 3\\end{matrix}\\right]$"
      ],
      "text/plain": [
       "Matrix([[-sin(t), -2*sin(t)*cos(t), 3]])"
      ]
     },
     "execution_count": 34,
     "metadata": {},
     "output_type": "execute_result"
    }
   ],
   "source": [
    "dr_dt = r_t.diff(t)\n",
    "dr_dt"
   ]
  },
  {
   "cell_type": "markdown",
   "metadata": {},
   "source": [
    "### b)  at $P = (-1,2,3\\pi)$ means $\\cos(t)=-1$"
   ]
  },
  {
   "cell_type": "code",
   "execution_count": 35,
   "metadata": {},
   "outputs": [
    {
     "data": {
      "text/latex": [
       "$\\displaystyle \\pi$"
      ],
      "text/plain": [
       "pi"
      ]
     },
     "execution_count": 35,
     "metadata": {},
     "output_type": "execute_result"
    }
   ],
   "source": [
    "sym.acos(-1)\n",
    "# this give us the t variable"
   ]
  },
  {
   "cell_type": "code",
   "execution_count": 36,
   "metadata": {},
   "outputs": [
    {
     "data": {
      "text/latex": [
       "$\\displaystyle \\left[\\begin{matrix}0 & 0 & 3\\end{matrix}\\right]$"
      ],
      "text/plain": [
       "Matrix([[0, 0, 3]])"
      ]
     },
     "execution_count": 36,
     "metadata": {},
     "output_type": "execute_result"
    }
   ],
   "source": [
    "dr_dt_P = Matrix([-sym.sin(sym.pi), -2*sym.sin(sym.pi)*sym.cos(sym.pi),3]).T\n",
    "dr_dt_P"
   ]
  },
  {
   "cell_type": "code",
   "execution_count": 37,
   "metadata": {},
   "outputs": [
    {
     "data": {
      "text/latex": [
       "$\\displaystyle \\left[\\begin{matrix}0 & 0 & 1\\end{matrix}\\right]$"
      ],
      "text/plain": [
       "Matrix([[0, 0, 1]])"
      ]
     },
     "execution_count": 37,
     "metadata": {},
     "output_type": "execute_result"
    }
   ],
   "source": [
    "\n",
    "U_T = dr_dt_P/(sqrt(dr_dt_P.dot(dr_dt_P)))\n",
    "U_T"
   ]
  },
  {
   "cell_type": "markdown",
   "metadata": {},
   "source": [
    "## c)  The line passing through $P$"
   ]
  },
  {
   "cell_type": "code",
   "execution_count": null,
   "metadata": {},
   "outputs": [],
   "source": []
  },
  {
   "cell_type": "markdown",
   "metadata": {},
   "source": [
    "## Problem 5\n",
    "Find the unit normal vector of the surface made by the equation at point $P = (3,4,5)$\n",
    "$$\n",
    "x^2+y^2=z^2"
   ]
  },
  {
   "cell_type": "code",
   "execution_count": 38,
   "metadata": {},
   "outputs": [],
   "source": [
    "import sympy as sym\n",
    "from sympy import *\n",
    "from sympy.plotting import plot3d\n",
    "from sympy import Matrix\n",
    "x,y,z = sym.symbols('x y z')"
   ]
  },
  {
   "cell_type": "code",
   "execution_count": 39,
   "metadata": {},
   "outputs": [
    {
     "data": {
      "image/png": "[encoded data removed]",
      "text/plain": [
       "<Figure size 432x288 with 1 Axes>"
      ]
     },
     "metadata": {
      "needs_background": "light"
     },
     "output_type": "display_data"
    },
    {
     "data": {
      "text/plain": [
       "<sympy.plotting.plot.Plot at 0x7fcf29856d00>"
      ]
     },
     "execution_count": 39,
     "metadata": {},
     "output_type": "execute_result"
    }
   ],
   "source": [
    "plot3d(x**2+y**2,(x,-5,5))"
   ]
  },
  {
   "cell_type": "code",
   "execution_count": 40,
   "metadata": {},
   "outputs": [
    {
     "data": {
      "text/latex": [
       "$\\displaystyle x^{2} + y^{2} - z^{2}$"
      ],
      "text/plain": [
       "x**2 + y**2 - z**2"
      ]
     },
     "execution_count": 40,
     "metadata": {},
     "output_type": "execute_result"
    }
   ],
   "source": [
    "f = x**2+y**2-z**2\n",
    "f"
   ]
  },
  {
   "cell_type": "markdown",
   "metadata": {},
   "source": [
    "## Gradient function\n",
    "$$\n",
    "\\nabla f = \\frac{\\partial f}{\\partial x }+\\frac{\\partial f}{\\partial y }+\\frac{\\partial f}{\\partial z }"
   ]
  },
  {
   "cell_type": "code",
   "execution_count": 41,
   "metadata": {},
   "outputs": [
    {
     "data": {
      "text/latex": [
       "$\\displaystyle 2 x + 2 y - 2 z$"
      ],
      "text/plain": [
       "2*x + 2*y - 2*z"
      ]
     },
     "execution_count": 41,
     "metadata": {},
     "output_type": "execute_result"
    }
   ],
   "source": [
    "gradinet_f = f.diff(x)+f.diff(y)+f.diff(z)\n",
    "gradinet_f"
   ]
  },
  {
   "cell_type": "markdown",
   "metadata": {},
   "source": [
    "$$ \\nabla f(P)"
   ]
  },
  {
   "cell_type": "code",
   "execution_count": 42,
   "metadata": {},
   "outputs": [
    {
     "data": {
      "text/latex": [
       "$\\displaystyle \\left[\\begin{matrix}6 & 8 & -10\\end{matrix}\\right]$"
      ],
      "text/plain": [
       "Matrix([[6, 8, -10]])"
      ]
     },
     "execution_count": 42,
     "metadata": {},
     "output_type": "execute_result"
    }
   ],
   "source": [
    "gradinet_f_P = Matrix([2*3,2*4,-2*5]).T\n",
    "gradinet_f_P"
   ]
  },
  {
   "cell_type": "markdown",
   "metadata": {},
   "source": [
    "$$ U_n = \\frac{\\nabla f(P)}{|\\nabla f(P)|}"
   ]
  },
  {
   "cell_type": "code",
   "execution_count": 43,
   "metadata": {},
   "outputs": [
    {
     "data": {
      "text/latex": [
       "$\\displaystyle 10 \\sqrt{2}$"
      ],
      "text/plain": [
       "10*sqrt(2)"
      ]
     },
     "execution_count": 43,
     "metadata": {},
     "output_type": "execute_result"
    }
   ],
   "source": [
    "gradinet_f_P_abs = sqrt(gradinet_f_P.dot(gradinet_f_P))\n",
    "gradinet_f_P_abs"
   ]
  },
  {
   "cell_type": "code",
   "execution_count": 44,
   "metadata": {},
   "outputs": [
    {
     "data": {
      "text/latex": [
       "$\\displaystyle \\left[\\begin{matrix}\\frac{3 \\sqrt{2}}{10} & \\frac{2 \\sqrt{2}}{5} & - \\frac{\\sqrt{2}}{2}\\end{matrix}\\right]$"
      ],
      "text/plain": [
       "Matrix([[3*sqrt(2)/10, 2*sqrt(2)/5, -sqrt(2)/2]])"
      ]
     },
     "execution_count": 44,
     "metadata": {},
     "output_type": "execute_result"
    }
   ],
   "source": [
    "U_n = gradinet_f_P / gradinet_f_P_abs\n",
    "U_n"
   ]
  },
  {
   "cell_type": "markdown",
   "metadata": {},
   "source": [
    "## Problem 6\n",
    "Find the $\\nabla \\cdot v$ and calculate its value at the point $P$ for\n",
    "$$\n",
    "v = [e^{yz}, \\cos x + \\sin y, x^2+y^2+z^2]\\\\\n",
    "P = (\\pi, \\pi, \\pi)\n"
   ]
  },
  {
   "cell_type": "code",
   "execution_count": 45,
   "metadata": {},
   "outputs": [],
   "source": [
    "import sympy as sym\n",
    "import numpy as np\n",
    "from sympy import *\n",
    "from sympy.plotting import plot3d\n",
    "from sympy import Matrix\n",
    "x,y,z = sym.symbols('x y z')"
   ]
  },
  {
   "cell_type": "code",
   "execution_count": 46,
   "metadata": {},
   "outputs": [
    {
     "data": {
      "text/latex": [
       "$\\displaystyle \\left[\\begin{matrix}e^{y z} & \\sin{\\left(y \\right)} + \\cos{\\left(x \\right)} & x^{2} + y^{2} + z^{2}\\end{matrix}\\right]$"
      ],
      "text/plain": [
       "Matrix([[exp(y*z), sin(y) + cos(x), x**2 + y**2 + z**2]])"
      ]
     },
     "execution_count": 46,
     "metadata": {},
     "output_type": "execute_result"
    }
   ],
   "source": [
    "v = Matrix([exp(y*z), sym.cos(x)+sym.sin(y), x**2+y**2+z**2]).T\n",
    "v"
   ]
  },
  {
   "cell_type": "code",
   "execution_count": 47,
   "metadata": {},
   "outputs": [
    {
     "data": {
      "text/latex": [
       "$\\displaystyle 2 z + \\cos{\\left(y \\right)}$"
      ],
      "text/plain": [
       "2*z + cos(y)"
      ]
     },
     "execution_count": 47,
     "metadata": {},
     "output_type": "execute_result"
    }
   ],
   "source": [
    "gradient_v = v[0].diff(x)+ v[1].diff(y)+v[2].diff(z)\n",
    "gradient_v"
   ]
  },
  {
   "cell_type": "code",
   "execution_count": 48,
   "metadata": {},
   "outputs": [
    {
     "data": {
      "text/plain": [
       "[pi, pi, pi]"
      ]
     },
     "execution_count": 48,
     "metadata": {},
     "output_type": "execute_result"
    }
   ],
   "source": [
    "v_p = [pi,pi,pi]\n",
    "v_p"
   ]
  },
  {
   "cell_type": "markdown",
   "metadata": {},
   "source": [
    "### subtuide into equation with $P$"
   ]
  },
  {
   "cell_type": "code",
   "execution_count": 49,
   "metadata": {},
   "outputs": [
    {
     "data": {
      "text/latex": [
       "$\\displaystyle -1 + 2 \\pi$"
      ],
      "text/plain": [
       "-1 + 2*pi"
      ]
     },
     "execution_count": 49,
     "metadata": {},
     "output_type": "execute_result"
    }
   ],
   "source": [
    "gradient_v.subs([(x,pi),(y,pi), (z,pi)])"
   ]
  },
  {
   "cell_type": "markdown",
   "metadata": {},
   "source": [
    "## Problem 7 \n",
    "Calculate $\\nabla \\times v$ for\n",
    "$$\n",
    "v = [\\frac{x^3y^2}{z^2},z+\\frac{x}{y},2y]"
   ]
  },
  {
   "cell_type": "markdown",
   "metadata": {},
   "source": [
    "The system can be rewriten as\n",
    "$$\n",
    "\\nabla \\times v = (\\frac{\\partial v_3}{\\partial y }-\\frac{\\partial v_2}{\\partial z })\\hat i - (\\frac{\\partial v_3}{\\partial x }-\\frac{\\partial v_1}{\\partial z })\\hat j+\n",
    "(\\frac{\\partial v_2}{\\partial x }-\\frac{\\partial v_1}{\\partial y })\\hat k"
   ]
  },
  {
   "cell_type": "code",
   "execution_count": 50,
   "metadata": {},
   "outputs": [],
   "source": [
    "import sympy as sym\n",
    "import numpy as np\n",
    "from sympy import *\n",
    "from sympy.plotting import plot3d\n",
    "from sympy.vector import CoordSys3D\n",
    "from sympy import Matrix\n",
    "N = CoordSys3D('N')\n",
    "x,y,z = sym.symbols('x y z')"
   ]
  },
  {
   "cell_type": "code",
   "execution_count": 51,
   "metadata": {},
   "outputs": [
    {
     "data": {
      "text/latex": [
       "$\\displaystyle \\left[\\begin{matrix}\\frac{x^{3} y^{2}}{z^{2}} & \\frac{x}{y} + z & 2 y\\end{matrix}\\right]$"
      ],
      "text/plain": [
       "Matrix([[x**3*y**2/z**2, x/y + z, 2*y]])"
      ]
     },
     "execution_count": 51,
     "metadata": {},
     "output_type": "execute_result"
    }
   ],
   "source": [
    "v = Matrix([(x**3*y**2)/z**2, z+ x/y, 2*y]).T\n",
    "v"
   ]
  },
  {
   "cell_type": "code",
   "execution_count": 52,
   "metadata": {},
   "outputs": [
    {
     "data": {
      "text/latex": [
       "$\\displaystyle \\mathbf{\\hat{i}_{N}} + (- \\frac{2 x^{3} y^{2}}{z^{3}})\\mathbf{\\hat{j}_{N}} + (- \\frac{2 x^{3} y}{z^{2}} + \\frac{1}{y})\\mathbf{\\hat{k}_{N}}$"
      ],
      "text/plain": [
       "N.i + (-2*x**3*y**2/z**3)*N.j + (-2*x**3*y/z**2 + 1/y)*N.k"
      ]
     },
     "execution_count": 52,
     "metadata": {},
     "output_type": "execute_result"
    }
   ],
   "source": [
    "gradient_cross_v = (v[2].diff(y) - v[1].diff(z))*N.i - (v[2].diff(x) - v[0].diff(z))*N.j + (v[1].diff(x) - v[0].diff(y))*N.k \n",
    "gradient_cross_v"
   ]
  },
  {
   "cell_type": "code",
   "execution_count": null,
   "metadata": {},
   "outputs": [],
   "source": []
  }
 ],
 "metadata": {
  "interpreter": {
   "hash": "a7cd2065e18610c7c94173aee9b1fbdfa82eca77f788500e14cfde4bb2f261d3"
  },
  "kernelspec": {
   "display_name": "Python 3.9.7 64-bit ('py39_Calculus': conda)",
   "name": "python3"
  },
  "language_info": {
   "codemirror_mode": {
    "name": "ipython",
    "version": 3
   },
   "file_extension": ".py",
   "mimetype": "text/x-python",
   "name": "python",
   "nbconvert_exporter": "python",
   "pygments_lexer": "ipython3",
   "version": "3.9.7"
  }
 },
 "nbformat": 4,
 "nbformat_minor": 2
}
